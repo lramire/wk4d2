{
 "cells": [
  {
   "cell_type": "markdown",
   "metadata": {},
   "source": [
    "# Algorithms and Time Complexity"
   ]
  },
  {
   "cell_type": "markdown",
   "metadata": {},
   "source": [
    "## Tasks Today:\n",
    " \n",
    "1) <b>In-Place Algorithms</b> <br>\n",
    " &nbsp;&nbsp;&nbsp;&nbsp; a) Syntax <br>\n",
    " &nbsp;&nbsp;&nbsp;&nbsp; a) Out of Place Algorithm <br>\n",
    " &nbsp;&nbsp;&nbsp;&nbsp; b) In-Class Exercise #1 <br>\n",
    "2) <b>Two Pointers</b> <br>\n",
    "3) <b>Merge Sort</b> <br>\n",
    " &nbsp;&nbsp;&nbsp;&nbsp; a) Video on Algorithms <br>\n",
    " &nbsp;&nbsp;&nbsp;&nbsp; b) How it Works <br>\n",
    "4) <b>Binary Search</b> <br>\n",
    "5) <b>Exercises</b> <br>\n",
    " &nbsp;&nbsp;&nbsp;&nbsp; a) Exercise #1 - Reverse a List in Place Using an In-Place Algorithm <br>\n",
    " &nbsp;&nbsp;&nbsp;&nbsp; b) Exercise #2 - Find Distinct Words <br>\n",
    " &nbsp;&nbsp;&nbsp;&nbsp; c) Exercise #3 - Write a program to implement a Linear Search Algorithm. <br>"
   ]
  },
  {
   "cell_type": "markdown",
   "metadata": {},
   "source": [
    "## In-Place Algorithms"
   ]
  },
  {
   "cell_type": "markdown",
   "metadata": {},
   "source": [
    "#### Syntax"
   ]
  },
  {
   "cell_type": "code",
   "execution_count": 4,
   "metadata": {},
   "outputs": [
    {
     "name": "stdout",
     "output_type": "stream",
     "text": [
      "Before swap [20, 4, 10]\n",
      "After swap [10, 4, 20]\n"
     ]
    }
   ],
   "source": [
    "#swap locations by index in a list\n",
    "#sometimes known as a swap algorithm\n",
    "# arr[i], arr[i+1] = arr[i+1], arr[i]\n",
    "\n",
    "def swap(alist, x, y, z):\n",
    "    alist[x], alist[y], alist[z] = alist[z], alist[y], alist[x]\n",
    "    return alist\n",
    "\n",
    "my_list = [20, 4, 10]\n",
    "print(\"Before swap\", my_list)\n",
    "print(\"After swap\", swap(my_list, 0,1,2))"
   ]
  },
  {
   "cell_type": "markdown",
   "metadata": {},
   "source": [
    "#### Out of Place Algorithm"
   ]
  },
  {
   "cell_type": "code",
   "execution_count": 8,
   "metadata": {},
   "outputs": [
    {
     "name": "stdout",
     "output_type": "stream",
     "text": [
      "[20, 20, 20]\n",
      "before: [20, 4, 10]\n",
      "After: [10, 4, 20]\n"
     ]
    }
   ],
   "source": [
    "# not swapping, reversing the list\n",
    "# But also copies to another place in memory\n",
    "\n",
    "my_list = [20, 4, 10]\n",
    "\n",
    "def out_place(alist):\n",
    "\n",
    "    new_array = [alist[0]] * len(alist) # [20, 20, 20]\n",
    "    print(new_array)\n",
    "\n",
    "    print(\"before:\", alist)\n",
    "    length = len(alist) -1\n",
    "    for i in range(length):\n",
    "        new_array[i] = alist[length - i]\n",
    "\n",
    "    alist = new_array\n",
    "    print(\"After:\", alist)\n",
    "\n",
    "out_place(my_list)\n",
    "\n",
    "    "
   ]
  },
  {
   "cell_type": "markdown",
   "metadata": {},
   "source": [
    "#### In-Class Exercise #1 <br>\n",
    "<p>Write a function that takes in four arguments (list, index1, index2, index3), and swaps those three positions in the list passed in.</p>"
   ]
  },
  {
   "cell_type": "code",
   "execution_count": 10,
   "metadata": {},
   "outputs": [
    {
     "name": "stdout",
     "output_type": "stream",
     "text": [
      "Before: [67, 11, 99]\n",
      "After: [67, 99, 11]\n"
     ]
    }
   ],
   "source": [
    "def swap(this_list, x, y, z):\n",
    "    this_list[x], this_list[y], this_list[z] = this_list[z], this_list[y], this_list[x]\n",
    "    return this_list\n",
    "\n",
    "test_list = [67, 11, 99]\n",
    "print(\"Before:\", test_list)\n",
    "print(\"After:\", swap(test_list, 1, 0, 2)) # check on this. index output looks off"
   ]
  },
  {
   "cell_type": "markdown",
   "metadata": {},
   "source": [
    "## Two Pointers"
   ]
  },
  {
   "cell_type": "markdown",
   "metadata": {},
   "source": [
    "#### Syntax"
   ]
  },
  {
   "cell_type": "code",
   "execution_count": 16,
   "metadata": {},
   "outputs": [
    {
     "data": {
      "text/plain": [
       "[22, 11, 4, 8, 9, 12, 3, 2, 1]"
      ]
     },
     "execution_count": 16,
     "metadata": {},
     "output_type": "execute_result"
    }
   ],
   "source": [
    "# alist[left], alist[right] = alist[right], alist[left]\n",
    "# use two pointesr to swap, can use a while loop in most cases\n",
    "# the list must be sorted\n",
    "\n",
    "my_list = [1,2,3,12,9,8,4,11,22]\n",
    "def two_pointer(alist):\n",
    "    \n",
    "    #create our pointers\n",
    "    left = 0 #this is our first index\n",
    "    right = len(alist) - 1 #this is last index\n",
    "\n",
    "    while left <= right: # once we reach the middle of the list, we no longer have to swap/check\n",
    "        #from left to while is basic syntax for two pointers\n",
    "        alist[left], alist[right] = alist[right], alist[left]\n",
    "        left += 1\n",
    "        right -= 1\n",
    "        \n",
    "    return alist\n",
    "\n",
    "two_pointer(my_list)"
   ]
  },
  {
   "cell_type": "markdown",
   "metadata": {},
   "source": [
    "#### Video of Algorithms <br>\n",
    "<p>Watch the video about algorithms.</p>\n",
    "\n",
    "https://www.youtube.com/watch?v=Q9HjeFD62Uk\n",
    "\n",
    "https://www.youtube.com/watch?v=kPRA0W1kECg\n",
    "\n",
    "https://www.youtube.com/watch?v=ZZuD6iUe3Pc"
   ]
  },
  {
   "cell_type": "markdown",
   "metadata": {},
   "source": [
    "# Sorting Algorithms"
   ]
  },
  {
   "cell_type": "code",
   "execution_count": null,
   "metadata": {},
   "outputs": [],
   "source": [
    "# Time complexity\n",
    "# how many actions have to happen per itms it akes as inputs\n"
   ]
  },
  {
   "cell_type": "markdown",
   "metadata": {},
   "source": [
    "#### Bubble Sort\n",
    "\n",
    "Worst Case: O(n^2) Time - O(1) Space"
   ]
  },
  {
   "cell_type": "code",
   "execution_count": 18,
   "metadata": {},
   "outputs": [
    {
     "data": {
      "text/plain": [
       "[1, 22, 34, 44, 55, 66, 88, 100]"
      ]
     },
     "execution_count": 18,
     "metadata": {},
     "output_type": "execute_result"
    }
   ],
   "source": [
    "# Best Case Linear\n",
    "# Worst Case Quadratic\n",
    "\n",
    "my_array = [100, 88, 22, 55, 44, 1, 34, 66]\n",
    "\n",
    "# swap helper function\n",
    "def swap(i, j, alist):\n",
    "\n",
    "    alist[i], alist[j], = alist[j], alist[i]\n",
    "\n",
    "def bubble_sort(array):\n",
    "    isSorted = False # this is our sorting flag\n",
    "\n",
    "    while not isSorted: #while this is set to False\n",
    "        isSorted = True\n",
    "\n",
    "        for index in range(len(array)-1): # -1 because we are comparing value to the value directly after it\n",
    "            if array[index] > array[index + 1]:\n",
    "                swap(index, index + 1, array)\n",
    "                isSorted = False\n",
    "\n",
    "    return array\n",
    "\n",
    "bubble_sort(my_array)"
   ]
  },
  {
   "cell_type": "code",
   "execution_count": 20,
   "metadata": {},
   "outputs": [
    {
     "data": {
      "text/plain": [
       "[1, 22, 34, 44, 55, 66, 88, 100]"
      ]
     },
     "execution_count": 20,
     "metadata": {},
     "output_type": "execute_result"
    }
   ],
   "source": [
    "# can make this slightly faster even though still O(n^2) Quadratic\n",
    "\n",
    "my_array = [100, 88, 22, 55, 44, 1, 34, 66]\n",
    "\n",
    "# swap helper function\n",
    "def swap(i, j, alist):\n",
    "\n",
    "    alist[i], alist[j], = alist[j], alist[i]\n",
    "\n",
    "def bubble_sort(array):\n",
    "    isSorted = False # this is our sorting flag\n",
    "    length = len(array)\n",
    "    while not isSorted: #while this is set to False\n",
    "        isSorted = True\n",
    "        length -=1\n",
    "        for index in range(len(array)-1): # -1 because we are comparing value to the value directly after it\n",
    "            if array[index] > array[index + 1]:\n",
    "                swap(index, index + 1, array)\n",
    "                isSorted = False\n",
    "\n",
    "    return array\n",
    "\n",
    "bubble_sort(my_array)"
   ]
  },
  {
   "cell_type": "markdown",
   "metadata": {},
   "source": [
    "##### Insertion Sort\n",
    "\n",
    "Worst Case: O(n^2) time - O(1)space"
   ]
  },
  {
   "cell_type": "code",
   "execution_count": 21,
   "metadata": {},
   "outputs": [
    {
     "data": {
      "text/plain": [
       "[1, 22, 34, 44, 55, 66, 88, 100]"
      ]
     },
     "execution_count": 21,
     "metadata": {},
     "output_type": "execute_result"
    }
   ],
   "source": [
    "my_array = [100, 88, 22, 55, 44, 1, 34, 66]\n",
    "\n",
    "def swap(i, j, alist):\n",
    "\n",
    "    alist[i], alist[j], = alist[j], alist[i]\n",
    "\n",
    "def insertion_sort(array):\n",
    "\n",
    "    for i in range(1, len(array)): # always condisers position 0 to be sorted, looking at the index next to it\n",
    "                                  # making sure we don't go beyond zero\n",
    "        j = i\n",
    "        while j > 0 and array[j] < array[j - 1]: # -1 because we are comparing value to the value directly after it\n",
    "            swap(j, j-1, array)\n",
    "            j -= 1 #decrement the pointer\n",
    "\n",
    "    return array\n",
    "\n",
    "insertion_sort(my_array)\n",
    "            "
   ]
  },
  {
   "cell_type": "markdown",
   "metadata": {},
   "source": [
    "## Merge Sort\n",
    "\n",
    "O(n log n) time - O(1)space\n",
    "for .sort or sorted()"
   ]
  },
  {
   "cell_type": "markdown",
   "metadata": {},
   "source": [
    "#### How it Works"
   ]
  },
  {
   "cell_type": "code",
   "execution_count": 27,
   "metadata": {},
   "outputs": [
    {
     "name": "stdout",
     "output_type": "stream",
     "text": [
      "splitting [100, 88, 22, 55, 44, 1, 34, 66]\n",
      "splitting [100, 88, 22, 55]\n",
      "splitting [100, 88]\n",
      "splitting [100]\n",
      "Merging: [100]\n",
      "splitting [88]\n",
      "Merging: [88]\n",
      "Merging: [88, 100]\n",
      "splitting [22, 55]\n",
      "splitting [22]\n",
      "Merging: [22]\n",
      "splitting [55]\n",
      "Merging: [55]\n",
      "Merging: [22, 55]\n",
      "Merging: [22, 55, 88, 100]\n",
      "splitting [44, 1, 34, 66]\n",
      "splitting [44, 1]\n",
      "splitting [44]\n",
      "Merging: [44]\n",
      "splitting [1]\n",
      "Merging: [1]\n",
      "Merging: [1, 44]\n",
      "splitting [34, 66]\n",
      "splitting [34]\n",
      "Merging: [34]\n",
      "splitting [66]\n",
      "Merging: [66]\n",
      "Merging: [34, 66]\n",
      "Merging: [1, 34, 44, 66]\n",
      "Merging: [1, 22, 34, 44, 55, 66, 88, 100]\n"
     ]
    },
    {
     "data": {
      "text/plain": [
       "[1, 22, 34, 44, 55, 66, 88, 100]"
      ]
     },
     "execution_count": 27,
     "metadata": {},
     "output_type": "execute_result"
    }
   ],
   "source": [
    "# Step 1: Split Everything into its own group\n",
    "# Step 2: From left to right merge two groups together\n",
    "# STep 3: While merging, place each item in its correct position within the merged group\n",
    "# Step 4: Repeat step 3 until one group is left\n",
    "\n",
    "#divide & conquor\n",
    "\n",
    "# sorted() and .sort() uses TimSort which is a combo of Merge Sort & Insertion Sort  \n",
    "\n",
    "my_array = [100, 88, 22, 55, 44, 1, 34, 66]\n",
    "\n",
    "def merge_sort(array):\n",
    "    print(\"splitting\", array)\n",
    "\n",
    "    #step 1: divide the array into equal parts ( as muchas we can)\n",
    "    if len(array) > 1:\n",
    "        mid = len(array) // 2\n",
    "        lefthalf = array[:mid]\n",
    "        righthalf = array[mid:]\n",
    "\n",
    "        # refursively call up on out merge_sort() function to keep splitting until we reach length of 1\n",
    "        # once we reach that base case (aka length of 1) then we merge our arrays together\n",
    "        merge_sort(lefthalf)\n",
    "        merge_sort(righthalf)\n",
    "\n",
    "        #create our pointers to keep track of our location in the 3 lists\n",
    "        l = 0 # location within our lefthalf list\n",
    "        r = 0 # location within our righthalf list\n",
    "        m = 0 # location within our main list (aka the one we are trying to sort currently)\n",
    "\n",
    "        # step 2: compare lefthalf at pointer location with righthalf at pointer location\n",
    "        while l < len(lefthalf) and r < len(righthalf):\n",
    "            if lefthalf[l] < righthalf[r]: # value in left array is smaller\n",
    "                array[m] = lefthalf[l] # put smaller value in main array\n",
    "                l += 1 # move up left pointer\n",
    "            else:\n",
    "                array[m] = righthalf[r]\n",
    "                r += 1\n",
    "\n",
    "            m += 1 # move up our main pointer\n",
    "            \n",
    "        #step 3: whatever list has contents left over, no need to compare just put them in the main list in their order\n",
    "        while l < len(lefthalf):\n",
    "            array[m] = lefthalf[l]\n",
    "            l += 1\n",
    "            m += 1\n",
    "        while r < len(righthalf):\n",
    "            array[m] = righthalf[r]\n",
    "            r += 1\n",
    "            m += 1\n",
    "\n",
    "    print(\"Merging:\", array)\n",
    "    return array\n",
    "\n",
    "merge_sort(my_array)"
   ]
  },
  {
   "cell_type": "markdown",
   "metadata": {},
   "source": [
    "# Binary Search\n",
    "\n",
    "The Binary Search algorithm works by finding the number in the middle of a given array and comparing it to the target. Given that the array is sorted\n",
    "\n",
    "* The worst case run time for this algorithm is `O(log(n))`"
   ]
  },
  {
   "cell_type": "code",
   "execution_count": 34,
   "metadata": {},
   "outputs": [
    {
     "data": {
      "text/plain": [
       "'Target was found at index 5'"
      ]
     },
     "execution_count": 34,
     "metadata": {},
     "output_type": "execute_result"
    }
   ],
   "source": [
    "# Less goes to the left\n",
    "# Greater goes to the right\n",
    "# List of numbers must be sorted *****\n",
    "\n",
    "my_array = [1, 22, 34, 44, 55, 66, 88, 100]\n",
    "target = 66\n",
    "\n",
    "def binary_search(array, target):\n",
    "\n",
    "    left = 0 #start of our list\n",
    "    right = len(array) - 1 #end of our list\n",
    "\n",
    "    while left <= right: # specific to binary search\n",
    "        middle = (left + right) // 2\n",
    "                        #at middle index\n",
    "        potential_match = array[middle]\n",
    "        if potential_match == target:\n",
    "            return f\"Target was found at index {middle}\"\n",
    "        elif potential_match > target:\n",
    "            right = middle -1\n",
    "        else:\n",
    "            left = middle + 1\n",
    "    return -1 # standard if you don't find .. to return -1\n",
    "    \n",
    "binary_search(my_array, target)"
   ]
  },
  {
   "cell_type": "markdown",
   "metadata": {},
   "source": [
    "# Exercises"
   ]
  },
  {
   "cell_type": "markdown",
   "metadata": {},
   "source": [
    "### Exercise #1 <br>\n",
    "<p>Reverse the list below in-place using an in-place algorithm.<br>For extra credit: Reverse the strings at the same time.</p>"
   ]
  },
  {
   "cell_type": "code",
   "execution_count": 3,
   "metadata": {},
   "outputs": [
    {
     "name": "stdout",
     "output_type": "stream",
     "text": [
      "Before swap: ['this', 'is', 'a', 'sentence', '.']\n",
      "After swap: ['.', 'sentence', 'a', 'is', 'this']\n"
     ]
    }
   ],
   "source": [
    "words = ['this' , 'is', 'a', 'sentence', '.']\n",
    "\n",
    "def swap(alist, v, w, x, y, z):\n",
    "    alist[v], alist[w], alist[x], alist[y], alist[z] = alist[z], alist[y], alist[x], alist[w], alist[v]\n",
    "    return alist\n",
    "\n",
    "print(\"Before swap:\", words)\n",
    "print(\"After swap:\", swap(words, 0, 1, 2, 3, 4))"
   ]
  },
  {
   "cell_type": "markdown",
   "metadata": {},
   "source": [
    "### Exercise #2 <br>\n",
    "<p>Create a function that counts how many distinct words are in the string below, then outputs a dictionary with the words as the key and the value as the amount of times that word appears in the string.<br>Should output:<br>{'a': 5,<br>\n",
    " 'abstract': 1,<br>\n",
    " 'an': 3,<br>\n",
    " 'array': 2, ... etc...</p>"
   ]
  },
  {
   "cell_type": "code",
   "execution_count": 7,
   "metadata": {},
   "outputs": [
    {
     "data": {
      "text/plain": [
       "{'IN': 1,\n",
       " 'COMPUTING,': 1,\n",
       " 'A': 5,\n",
       " 'HASH': 4,\n",
       " 'TABLE': 2,\n",
       " 'MAP': 2,\n",
       " 'IS': 1,\n",
       " 'DATA': 2,\n",
       " 'STRUCTURE': 2,\n",
       " 'WHICH': 2,\n",
       " 'IMPLEMENTS': 1,\n",
       " 'AN': 3,\n",
       " 'ASSOCIATIVE': 1,\n",
       " 'ARRAY': 2,\n",
       " 'ABSTRACT': 1,\n",
       " 'TYPE,': 1,\n",
       " 'THAT': 1,\n",
       " 'CAN': 2,\n",
       " 'KEYS': 1,\n",
       " 'TO': 2,\n",
       " 'VALUES.': 1,\n",
       " 'USES': 1,\n",
       " 'FUNCTION': 1,\n",
       " 'COMPUTE': 1,\n",
       " 'INDEX': 1,\n",
       " 'INTO': 1,\n",
       " 'OF': 1,\n",
       " 'BUCKETS': 1,\n",
       " 'OR': 1,\n",
       " 'SLOTS': 1,\n",
       " 'FROM': 1,\n",
       " 'THE': 1,\n",
       " 'DESIRED': 1,\n",
       " 'VALUE': 1,\n",
       " 'BE': 1,\n",
       " 'FOUND': 1}"
      ]
     },
     "execution_count": 7,
     "metadata": {},
     "output_type": "execute_result"
    }
   ],
   "source": [
    "a_text = 'In computing, a hash table hash map is a data structure which implements an associative array abstract data type, a structure that can map keys to values. A hash table uses a hash function to compute an index into an array of buckets or slots from which the desired value can be found'\n",
    "# sorted() and .sort()\n",
    "\n",
    "def distinct(a_text):\n",
    "    \n",
    "    dict_text = {}\n",
    "    new_a_text = a_text.upper().split()\n",
    "\n",
    "    for word in new_a_text:\n",
    "        if word in dict_text:\n",
    "            dict_text[word] += 1\n",
    "        else:\n",
    "            dict_text[word] = 1\n",
    "\n",
    "    return dict_text\n",
    "\n",
    "distinct(a_text)\n"
   ]
  },
  {
   "cell_type": "markdown",
   "metadata": {},
   "source": [
    "## Exercise #3\n",
    "\n",
    "<p>Use binary search to return the index of the target num</p>\n",
    "\n"
   ]
  },
  {
   "cell_type": "code",
   "execution_count": 10,
   "metadata": {},
   "outputs": [
    {
     "data": {
      "text/plain": [
       "'Target was found at index 7'"
      ]
     },
     "execution_count": 10,
     "metadata": {},
     "output_type": "execute_result"
    }
   ],
   "source": [
    "cool_list = [2, 5, 6, 12, 45, 47, 98, 123, 1000]\n",
    "target = 123\n",
    "\n",
    "def binary_search(array, target):\n",
    "\n",
    "    left = 0 \n",
    "    right = len(array) - 1 \n",
    "\n",
    "    while left <= right: \n",
    "        middle = (left + right) // 2\n",
    "                       \n",
    "        potential_match = array[middle]\n",
    "        if potential_match == target:\n",
    "            return f\"Target was found at index {middle}\"\n",
    "        elif potential_match > target:\n",
    "            right = middle -1\n",
    "        else:\n",
    "            left = middle + 1\n",
    "    return -1 \n",
    "\n",
    "binary_search(cool_list, target)"
   ]
  }
 ],
 "metadata": {
  "kernelspec": {
   "display_name": "Python 3 (ipykernel)",
   "language": "python",
   "name": "python3"
  },
  "language_info": {
   "codemirror_mode": {
    "name": "ipython",
    "version": 3
   },
   "file_extension": ".py",
   "mimetype": "text/x-python",
   "name": "python",
   "nbconvert_exporter": "python",
   "pygments_lexer": "ipython3",
   "version": "3.10.11"
  }
 },
 "nbformat": 4,
 "nbformat_minor": 4
}
